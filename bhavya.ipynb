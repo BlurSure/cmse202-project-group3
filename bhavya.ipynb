{
 "cells": [
  {
   "cell_type": "code",
   "execution_count": 1,
   "id": "b7b9d5e7",
   "metadata": {},
   "outputs": [],
   "source": [
    "import numpy as np"
   ]
  },
  {
   "cell_type": "code",
   "execution_count": 2,
   "id": "46491020",
   "metadata": {},
   "outputs": [],
   "source": [
    "#This function takes two armies(array) with skill level of soldiers as the elements\n",
    "#0 means that the soldier is dead\n",
    "def fight(attack,defense):\n",
    "    #randomizing the attack pattern of two armies\n",
    "    army1 = np.copy(attack)\n",
    "    army2 = np.copy(defense)\n",
    "    np.random.shuffle(army1) \n",
    "    np.random.shuffle(army2)\n",
    "    death1, death2 = 0,0\n",
    "    #run loop for minimum length steps till one of the army dies completely\n",
    "    while army1.size!=0 and army2.size!=0:\n",
    "        soldier1, soldier2 = army1[0], army2[0]\n",
    "        probability = np.random.random()\n",
    "        if soldier1/(soldier1 + soldier2) > probability:\n",
    "            army2 = np.delete(army2, 0)\n",
    "            death2 += 1\n",
    "        else:\n",
    "            army1 = np.delete(army1, 0)\n",
    "            death1 += 1\n",
    "            \n",
    "    return army1, army2"
   ]
  },
  {
   "cell_type": "code",
   "execution_count": 3,
   "id": "f2c69977",
   "metadata": {},
   "outputs": [
    {
     "data": {
      "text/plain": [
       "(array([0.5, 0.4, 0.7]), array([], dtype=float64))"
      ]
     },
     "execution_count": 3,
     "metadata": {},
     "output_type": "execute_result"
    }
   ],
   "source": [
    "a = np.array([0.5,0.4,0.7,0.5])\n",
    "b = np.array([0.4,0.5,0.8])\n",
    "fight(a,b)"
   ]
  },
  {
   "cell_type": "code",
   "execution_count": null,
   "id": "c59e96d1",
   "metadata": {},
   "outputs": [],
   "source": []
  }
 ],
 "metadata": {
  "kernelspec": {
   "display_name": "Python 3.10",
   "language": "python",
   "name": "python3.10"
  },
  "language_info": {
   "codemirror_mode": {
    "name": "ipython",
    "version": 3
   },
   "file_extension": ".py",
   "mimetype": "text/x-python",
   "name": "python",
   "nbconvert_exporter": "python",
   "pygments_lexer": "ipython3",
   "version": "3.10.12"
  }
 },
 "nbformat": 4,
 "nbformat_minor": 5
}
