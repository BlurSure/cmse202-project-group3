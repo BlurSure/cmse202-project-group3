{
 "cells": [
  {
   "cell_type": "code",
   "execution_count": 59,
   "id": "a09621ff",
   "metadata": {},
   "outputs": [],
   "source": [
    "import networkx as nx"
   ]
  },
  {
   "cell_type": "code",
   "execution_count": 79,
   "id": "cee9951d",
   "metadata": {},
   "outputs": [],
   "source": [
    "chart  = {'A1':['A2'], 'A2':['A1','A3'], 'A3':['A2','A4'], 'A4':['A3'],'B1':['B2'], 'B2':['B1','B3'], 'B3':['B2','B4'], 'B4':['B3']}\n",
    "pos = {'A1':[0,0], 'A2':[0,1], 'A3':[0,2], 'A4':[0,3], 'B1':[1,0], 'B2':[1,1], 'B3':[1,2], 'B4':[1,3]}\n",
    "G = nx.Graph(chart)"
   ]
  },
  {
   "cell_type": "code",
   "execution_count": 80,
   "id": "1a81c5d4",
   "metadata": {},
   "outputs": [
    {
     "data": {
      "image/png": "[encoded data removed]",
      "text/plain": [
       "<Figure size 432x288 with 1 Axes>"
      ]
     },
     "metadata": {},
     "output_type": "display_data"
    }
   ],
   "source": [
    "nx.draw(G,with_labels = True, pos= pos)\n"
   ]
  },
  {
   "cell_type": "code",
   "execution_count": 81,
   "id": "bc9e8db9",
   "metadata": {},
   "outputs": [],
   "source": [
    "def reorder_territories(t1, t2, G, chart):\n",
    "    winner = t2\n",
    "    G.remove_edges_from(G.edges(t1))\n",
    "    G.add_edge(t1,t2)\n",
    "    for key in chart.keys():\n",
    "        if t1 in chart[key]:\n",
    "            chart[key].remove(t1)\n",
    "    chart[t1] = t2\n",
    "    chart[t2].append(t1)"
   ]
  },
  {
   "cell_type": "code",
   "execution_count": 84,
   "id": "19b671f4",
   "metadata": {},
   "outputs": [],
   "source": [
    "reorder_territories('A3','B2', G, chart)\n",
    "    \n",
    "    "
   ]
  },
  {
   "cell_type": "code",
   "execution_count": 85,
   "id": "5d1ebe53",
   "metadata": {},
   "outputs": [
    {
     "data": {
      "image/png": "[encoded data removed]",
      "text/plain": [
       "<Figure size 432x288 with 1 Axes>"
      ]
     },
     "metadata": {},
     "output_type": "display_data"
    }
   ],
   "source": [
    "nx.draw(G,with_labels = True, pos= pos)"
   ]
  },
  {
   "cell_type": "code",
   "execution_count": 86,
   "id": "4d16a98f",
   "metadata": {},
   "outputs": [
    {
     "data": {
      "text/plain": [
       "{'A1': ['A2'],\n",
       " 'A2': ['A1'],\n",
       " 'A3': 'B2',\n",
       " 'A4': [],\n",
       " 'B1': ['B2'],\n",
       " 'B2': ['B1', 'B3', 'A3'],\n",
       " 'B3': ['B2', 'B4'],\n",
       " 'B4': ['B3']}"
      ]
     },
     "execution_count": 86,
     "metadata": {},
     "output_type": "execute_result"
    }
   ],
   "source": [
    "chart"
   ]
  },
  {
   "cell_type": "code",
   "execution_count": null,
   "id": "168ff366",
   "metadata": {},
   "outputs": [],
   "source": []
  },
  {
   "cell_type": "code",
   "execution_count": null,
   "id": "ae2f7a6f",
   "metadata": {},
   "outputs": [],
   "source": []
  },
  {
   "cell_type": "code",
   "execution_count": null,
   "id": "a0ef4909",
   "metadata": {},
   "outputs": [],
   "source": []
  },
  {
   "cell_type": "code",
   "execution_count": null,
   "id": "c59a9e71",
   "metadata": {},
   "outputs": [],
   "source": []
  }
 ],
 "metadata": {
  "kernelspec": {
   "display_name": "Python 3.8",
   "language": "python",
   "name": "python3"
  },
  "language_info": {
   "codemirror_mode": {
    "name": "ipython",
    "version": 3
   },
   "file_extension": ".py",
   "mimetype": "text/x-python",
   "name": "python",
   "nbconvert_exporter": "python",
   "pygments_lexer": "ipython3",
   "version": "3.8.8"
  }
 },
 "nbformat": 4,
 "nbformat_minor": 5
}
