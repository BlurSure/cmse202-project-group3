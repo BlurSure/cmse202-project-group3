{
 "cells": [
  {
   "cell_type": "code",
   "execution_count": null,
   "id": "eb7836b6",
   "metadata": {},
   "outputs": [],
   "source": [
    "# Create the 'Country' class\n",
    "class Country:\n",
    "    def __init__(self, territory_list, money):\n",
    "        self.territory_list = territory_list\n",
    "    # Territory list will be initialzied as an attribute (List will come from terriotry class that Jonathan will make)\n",
    "        self.money = money\n",
    "    # Will be a number of money for the entire country in millions (again initialized once composition is used with Jonathan's territory class)\n",
    "    \n",
    "    def dist_money(self):\n",
    "        # Once a territory wins a battle the country needs to redistribute the money it has evenly over the numbe of territories\n",
    "        money_per_territory = money / len(territory_list)\n",
    "        return money_per_territory\n",
    "        pass\n",
    "    def add_GDP(self):\n",
    "        if num_iterations % 10 ==0:\n",
    "            # Every 10 iterations of the simulation GDP will be added to each country\n",
    "            every_ten_increase = 0.2 * self.money \n",
    "            # A country will have their money increase by 20 % every ten iterations of the simulation\n",
    "            self.money = self.money * every_ten_increase\n",
    "            return self.money\n",
    "            pass\n",
    "            \n",
    "    \n",
    "    def lose_money_winner(self):\n",
    "        # When a territory participates in a battle they will lose money whether they win or lose\n",
    "        battle_lost_money = self.money * 0.1\n",
    "        self.money = self.money - battle_lost_money \n",
    "        return money\n",
    "        pass\n",
    "    def lose_money_loser(self):\n",
    "        # When a territory loses a battle after participating they will lose all the monet they have\n",
    "        battle_lost_money = self.money\n",
    "        self.money = 0\n",
    "        return self.money\n",
    "        pass\n",
    "        "
   ]
  },
  {
   "cell_type": "code",
   "execution_count": null,
   "id": "7f1b4d80",
   "metadata": {},
   "outputs": [],
   "source": []
  }
 ],
 "metadata": {
  "kernelspec": {
   "display_name": "Python 3.10",
   "language": "python",
   "name": "python3.10"
  },
  "language_info": {
   "codemirror_mode": {
    "name": "ipython",
    "version": 3
   },
   "file_extension": ".py",
   "mimetype": "text/x-python",
   "name": "python",
   "nbconvert_exporter": "python",
   "pygments_lexer": "ipython3",
   "version": "3.10.12"
  }
 },
 "nbformat": 4,
 "nbformat_minor": 5
}
