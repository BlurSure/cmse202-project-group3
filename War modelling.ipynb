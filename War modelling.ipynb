{
 "cells": [
  {
   "cell_type": "markdown",
   "id": "48b0d0a8",
   "metadata": {},
   "source": [
    "# War Modeling\n",
    "## Money or Soldiers : What's more important"
   ]
  },
  {
   "cell_type": "markdown",
   "id": "a0b502eb",
   "metadata": {},
   "source": [
    "<img src=\"https://ipython-books.github.io/pages/chapter06_viz/04_d3_files/D3.png\" width=500px>"
   ]
  },
  {
   "cell_type": "markdown",
   "id": "f263d612",
   "metadata": {},
   "source": [
    "**Group members:** \n",
    "<br>Jonathan Le Roux\n",
    "<br>Pranav Agarwal\n",
    "<br>Bhavya Jain\n",
    "<br>Ethan Hecht"
   ]
  },
  {
   "cell_type": "code",
   "execution_count": null,
   "id": "80ad9c46",
   "metadata": {},
   "outputs": [],
   "source": [
    "class Territories:\n",
    "    \"\"\"\n",
    "    Class that houses the information for each individual territory of a country\n",
    "    \n",
    "    Attributes:\n",
    "    position - a list in the form longitude, latitude\n",
    "    num_soldiers - a numeric value which has the number of soldiers a territory has in thousands\n",
    "    \n",
    "    \n",
    "    Methods:\n",
    "    add_soldiers - increases the number of soldiers and adds the new soldiers skill levels to the dictionary\n",
    "    attack = fights oppositing territory given in the argument, updates the teritories army\n",
    "             after war and returns the opposing territory with an updated army. \n",
    "    \"\"\"\n",
    "    def __init__(self, position, num_soldiers):\n",
    "        import random\n",
    "        import numpy as np\n",
    "        \n",
    "        self.position = position\n",
    "        self.money = 0\n",
    "        #below sets each soldier skill level randomly\n",
    "        self.skill_levels = np.zeros(num_soldiers)\n",
    "        \n",
    "        for i in range(num_soldiers):\n",
    "            self.skill_levels[i] =  random.uniform(0,1)\n",
    "               \n",
    "    def get_position(self):\n",
    "        return self.position\n",
    "    \n",
    "    def set_position(self, position):\n",
    "        self.position = position\n",
    "    \n",
    "    def get_num_soldiers(self):\n",
    "        return len(self.num_soldiers)-1\n",
    "   \n",
    "    def add_money(amount):\n",
    "        self.money += amount\n",
    "    \n",
    "    def remove_money(amount)\n",
    "        self.money-= amount\n",
    "    \n",
    "    def add_soldiers(self, number_adding):\n",
    "        self.num_soldiers += number_adding\n",
    "        for i in range(self.num_soldiers-number_adding+1,self.num_soldiers+1):\n",
    "             self.skill_levels = self.skill_levels.append(random.uniform(0,1))\n",
    "            \n",
    "    def attack(self,opposing_territory):\n",
    "        #returns 2 territory objects\n",
    "        army1 = np.copy(self.skill_levels)\n",
    "        army2 = np.copy(opposing_territory.skill_levels)\n",
    "        #randomizing the attack pattern of two armies\n",
    "        np.random.shuffle(army1) \n",
    "        np.random.shuffle(army2)\n",
    "        death1, death2 = 0,0\n",
    "       \n",
    "        #run loop for minimum length steps till one of the army dies completely\n",
    "        while army1.size!=0 and army2.size!=0:\n",
    "            soldier1, soldier2 = army1[0], army2[0]\n",
    "            probability = np.random.random()\n",
    "            if soldier1/(soldier1 + soldier2) > probability:\n",
    "                army2 = np.delete(army2, 0)\n",
    "                death2 += 1\n",
    "            else:\n",
    "                army1 = np.delete(army1, 0)\n",
    "                death1 += 1\n",
    "        self.skill_levels = army1\n",
    "        opposing_territory.skill_levels = army2\n",
    "        return opposing_territory \n",
    "        "
   ]
  },
  {
   "cell_type": "code",
   "execution_count": null,
   "id": "16f895ae",
   "metadata": {},
   "outputs": [],
   "source": []
  },
  {
   "cell_type": "code",
   "execution_count": null,
   "id": "43f0c582",
   "metadata": {},
   "outputs": [],
   "source": []
  },
  {
   "cell_type": "code",
   "execution_count": null,
   "id": "95d6df1f",
   "metadata": {},
   "outputs": [],
   "source": []
  }
 ],
 "metadata": {
  "kernelspec": {
   "display_name": "Python 3.10",
   "language": "python",
   "name": "python3.10"
  },
  "language_info": {
   "codemirror_mode": {
    "name": "ipython",
    "version": 3
   },
   "file_extension": ".py",
   "mimetype": "text/x-python",
   "name": "python",
   "nbconvert_exporter": "python",
   "pygments_lexer": "ipython3",
   "version": "3.10.12"
  }
 },
 "nbformat": 4,
 "nbformat_minor": 5
}
