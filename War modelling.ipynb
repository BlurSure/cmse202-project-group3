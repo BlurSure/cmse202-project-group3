{
 "cells": [
  {
   "cell_type": "markdown",
   "id": "81db11bf",
   "metadata": {},
   "source": [
    "# War "
   ]
  },
  {
   "cell_type": "markdown",
   "id": "3c4da6e5",
   "metadata": {},
   "source": [
    "<img src=\"https://ipython-books.github.io/pages/chapter06_viz/04_d3_files/D3.png\" width=500px>"
   ]
  },
  {
   "cell_type": "markdown",
   "id": "5d1412a6",
   "metadata": {},
   "source": [
    "**Group members:** \n",
    "<br>Jonathan Le Roux\n",
    "<br>Pranav Agarwal\n",
    "<br>Bhavya Jain\n",
    "<br>Ethan Hecht"
   ]
  },
  {
   "cell_type": "code",
   "execution_count": null,
   "id": "8da0004b",
   "metadata": {},
   "outputs": [],
   "source": []
  }
 ],
 "metadata": {
  "kernelspec": {
   "display_name": "Python 3.10",
   "language": "python",
   "name": "python3.10"
  },
  "language_info": {
   "codemirror_mode": {
    "name": "ipython",
    "version": 3
   },
   "file_extension": ".py",
   "mimetype": "text/x-python",
   "name": "python",
   "nbconvert_exporter": "python",
   "pygments_lexer": "ipython3",
   "version": "3.10.12"
  }
 },
 "nbformat": 4,
 "nbformat_minor": 5
}
